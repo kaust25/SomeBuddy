{
  "nbformat": 4,
  "nbformat_minor": 0,
  "metadata": {
    "colab": {
      "name": "Uttam.ipynb",
      "provenance": []
    },
    "kernelspec": {
      "name": "python3",
      "display_name": "Python 3"
    },
    "language_info": {
      "name": "python"
    }
  },
  "cells": [
    {
      "cell_type": "code",
      "execution_count": null,
      "metadata": {
        "colab": {
          "base_uri": "https://localhost:8080/"
        },
        "id": "f3bmi1uj6hdO",
        "outputId": "0bb364b2-bf6b-4e58-efa4-a14af23afe61"
      },
      "outputs": [
        {
          "output_type": "stream",
          "name": "stdout",
          "text": [
            "Collecting chatterbot\n",
            "  Downloading ChatterBot-1.0.8-py2.py3-none-any.whl (63 kB)\n",
            "\u001b[?25l\r\u001b[K     |█████▏                          | 10 kB 25.4 MB/s eta 0:00:01\r\u001b[K     |██████████▎                     | 20 kB 28.3 MB/s eta 0:00:01\r\u001b[K     |███████████████▌                | 30 kB 34.3 MB/s eta 0:00:01\r\u001b[K     |████████████████████▋           | 40 kB 39.5 MB/s eta 0:00:01\r\u001b[K     |█████████████████████████▊      | 51 kB 41.4 MB/s eta 0:00:01\r\u001b[K     |███████████████████████████████ | 61 kB 44.6 MB/s eta 0:00:01\r\u001b[K     |████████████████████████████████| 63 kB 2.3 MB/s \n",
            "\u001b[?25hRequirement already satisfied: python-dateutil<2.9,>=2.8 in /usr/local/lib/python3.7/dist-packages (from chatterbot) (2.8.2)\n",
            "Requirement already satisfied: pytz in /usr/local/lib/python3.7/dist-packages (from chatterbot) (2018.9)\n",
            "Collecting mathparse<0.2,>=0.1\n",
            "  Downloading mathparse-0.1.2-py3-none-any.whl (7.2 kB)\n",
            "Collecting sqlalchemy<1.4,>=1.3\n",
            "  Downloading SQLAlchemy-1.3.24-cp37-cp37m-manylinux2010_x86_64.whl (1.3 MB)\n",
            "\u001b[K     |████████████████████████████████| 1.3 MB 43.2 MB/s \n",
            "\u001b[?25hRequirement already satisfied: six>=1.5 in /usr/local/lib/python3.7/dist-packages (from python-dateutil<2.9,>=2.8->chatterbot) (1.15.0)\n",
            "Installing collected packages: sqlalchemy, mathparse, chatterbot\n",
            "  Attempting uninstall: sqlalchemy\n",
            "    Found existing installation: SQLAlchemy 1.4.29\n",
            "    Uninstalling SQLAlchemy-1.4.29:\n",
            "      Successfully uninstalled SQLAlchemy-1.4.29\n",
            "Successfully installed chatterbot-1.0.8 mathparse-0.1.2 sqlalchemy-1.3.24\n"
          ]
        }
      ],
      "source": [
        "pip install chatterbot"
      ]
    },
    {
      "cell_type": "code",
      "source": [
        "from chatterbot import ChatBot\n",
        "from chatterbot.trainers import ListTrainer\n",
        "bot = ChatBot(\"Uttam\")\n",
        "trainer = ListTrainer(bot)\n",
        "\n",
        "trainer.train(\n",
        "    [\n",
        "     'Hi',\n",
        "     'Hello',\n",
        "     'How are you?',\n",
        "     'I am fine thank you. What about you?',\n",
        "     'I am also fine',\n",
        "     'Nice to hear that',\n",
        "     'What is your name?',\n",
        "     'My name is uttam',\n",
        "     'Thank you',\n",
        "     'You are most welcome',\n",
        "     'কেমন আছেন?',\n",
        "     'আমি ভালো আছি'\n",
        "    ]\n",
        ")"
      ],
      "metadata": {
        "colab": {
          "base_uri": "https://localhost:8080/"
        },
        "id": "nCO71wNq8cIq",
        "outputId": "124039bd-6526-423f-9bfe-7d4999cc79c6"
      },
      "execution_count": null,
      "outputs": [
        {
          "output_type": "stream",
          "name": "stdout",
          "text": [
            "List Trainer: [####################] 100%\n"
          ]
        }
      ]
    },
    {
      "cell_type": "code",
      "source": [
        "name = input(\"Enter your name: \")\n",
        "\n",
        "while True:\n",
        "  try:\n",
        "    print(name,end=\"-->\") \n",
        "    user_input= input()\n",
        "    if user_input=='bye':\n",
        "      break\n",
        "    bot_response = bot.get_response(user_input)\n",
        "\n",
        "    print(\"BOT-->\",bot_response)\n",
        "    print(\"\")\n",
        "\n",
        "  except(KeyboardInterrupt, EOFError, SystemExit ):\n",
        "    break  \n"
      ],
      "metadata": {
        "colab": {
          "base_uri": "https://localhost:8080/"
        },
        "id": "KUEaEB50-fvl",
        "outputId": "2d06cbc7-f521-49d7-9cae-0f540062e962"
      },
      "execution_count": null,
      "outputs": [
        {
          "name": "stdout",
          "output_type": "stream",
          "text": [
            "Enter your name: Uttam\n",
            "Uttam-->Hi\n",
            "BOT--> Hello\n",
            "\n",
            "Uttam-->How are you?\n",
            "BOT--> I am fine thank you. What about you?\n",
            "\n",
            "Uttam-->I am also fine\n",
            "BOT--> Nice to hear that\n",
            "\n",
            "Uttam-->bye\n"
          ]
        }
      ]
    }
  ]
}